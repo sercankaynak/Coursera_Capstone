{
    "cells": [
        {
            "metadata": {
                "collapsed": true
            },
            "cell_type": "markdown",
            "source": "# Capstone Project - The Battle of Neighborhoods | Finding a Better Place for a Trip in \u0130stanbul as a New Yorker"
        },
        {
            "metadata": {},
            "cell_type": "markdown",
            "source": "## Introduction"
        },
        {
            "metadata": {},
            "cell_type": "markdown",
            "source": "The purpose of this project is to help people in exploring the city,living and better observing Turkish culture with finding a good place using Airbnb. It will help people making better and cheaper decisions on selecting a place to stay in a better neighborhood of \u0130stanbul"
        },
        {
            "metadata": {},
            "cell_type": "markdown",
            "source": "New York City has lots of different kinds of venues that is popular and have visitors all around the world. New York City also is one of most crowded metropolitan area all around the world.New York City has been described as the cultural, financial, and media capital of the world, significantly influencing commerce,entertainment, research, technology, education, politics, tourism, art, fashion, and sports. The city and its metropolitan area constitute the premier gateway for legal immigration to the United States. As many as 800 languages are spoken in New York,making it the most linguistically diverse city in the world. New York is home to more than 3.2 million residents born outside the United States,the largest foreign-born population of any city in the world as of 2016. \n\nWe can explore more details about New York City can be found here : https://en.wikipedia.org/wiki/New_York_City"
        },
        {
            "metadata": {},
            "cell_type": "markdown",
            "source": "\u0130stanbul is the most populous city in Turkey and the country's economic, cultural and historic center. \u0130stanbul is a transcontinental city in Eurasia, straddling the Bosporus strait (which separates Europe and Asia) between the Sea of Marmara and the Black Sea. Its commercial and historical center lies on the European side and about a third of its population lives in suburbs on the Asian side of the Bosphorus. With a total population of around fifteen million residents in its metropolitan area,\u0130stanbul is one of the world's largest cities by population, ranking as the world's fifteenth-largest city and the largest city in Europe\n\n\u0130stanbul also host lots of different cultures,religions,cuisines and foreign people all around the world\n\nWe can explore more details about \u0130stanbul can be found here : https://en.wikipedia.org/wiki/Istanbul"
        },
        {
            "metadata": {},
            "cell_type": "markdown",
            "source": "This project'll give a perspective about similarity of both two cities,their venues like cafe,restaurants with an analysis of features that mentioned below."
        },
        {
            "metadata": {},
            "cell_type": "markdown",
            "source": "Project will help people to explore a new city and the city's most important features."
        },
        {
            "metadata": {},
            "cell_type": "markdown",
            "source": "## Description & Discussion of the Background"
        },
        {
            "metadata": {},
            "cell_type": "markdown",
            "source": "The main purpose of the project,is to suggest a better place to stay nearby most vogue venues and to make a cheaper recommendation in Airbnb prices. Caf\u00e9s,restaurants,museums,shops etc. like he/she used to go in New York."
        },
        {
            "metadata": {},
            "cell_type": "markdown",
            "source": "My work is to find the similar places and venues that people coming from New York make a connection with the city."
        },
        {
            "metadata": {},
            "cell_type": "markdown",
            "source": "The problem will be solved in four steps:"
        },
        {
            "metadata": {},
            "cell_type": "markdown",
            "source": "1. Determining the boroughs,neighborhoods and venues in New York,\n2. Determining the boroughs,neignborhoods and venues in \u0130stanbul,\n3. Measuring the similarity in venues between New York and \u0130stanbul,\n4. Recommendation the best places to stay and cheaper places in Airbnb"
        },
        {
            "metadata": {},
            "cell_type": "markdown",
            "source": "### Locations"
        },
        {
            "metadata": {},
            "cell_type": "markdown",
            "source": "New York and \u0130stanbul are one of unique,most important and most crowded metropolitan cities of their own countries. Both two cities host lots of different cultures,religions and cuisines etc.They are also financial centers in their own countries. "
        },
        {
            "metadata": {},
            "cell_type": "markdown",
            "source": "### Foursquare API"
        },
        {
            "metadata": {},
            "cell_type": "markdown",
            "source": "This project would use Foursquare API as main data gathering source,especially their Places API which provides us the ability like location search,location share and details about venues."
        },
        {
            "metadata": {},
            "cell_type": "markdown",
            "source": "### Airbnb"
        },
        {
            "metadata": {},
            "cell_type": "markdown",
            "source": "Airbnb is an American vacation rental online marketplace company based in San Francisco, California, United States. Airbnb offers arrangement for lodging, primarily homestays, or tourism experiences. The company does not own any of the real estate listings, nor does it host events; it acts as a broker, receiving commissions from each booking.\nAirbnb also provides API services to gather the data of listing,neighborhoods and details about rental places."
        },
        {
            "metadata": {},
            "cell_type": "markdown",
            "source": "### Clustering Approach"
        },
        {
            "metadata": {},
            "cell_type": "markdown",
            "source": "In this project,to compare the similarities of two cities,Clustering Approach is the best method for exploring neighborhoods,segmenting them and grouping them into clusters to find out similar boroughs,neighborhoods and places between New York City and \u0130stanbul.\nFor Clustering Approach,we use k-Means Clustering that is a form of unsupervised machine learning algorithm."
        }
    ],
    "metadata": {
        "kernelspec": {
            "name": "python3",
            "display_name": "Python 3.7",
            "language": "python"
        },
        "language_info": {
            "name": "python",
            "version": "3.7.9",
            "mimetype": "text/x-python",
            "codemirror_mode": {
                "name": "ipython",
                "version": 3
            },
            "pygments_lexer": "ipython3",
            "nbconvert_exporter": "python",
            "file_extension": ".py"
        }
    },
    "nbformat": 4,
    "nbformat_minor": 1
}