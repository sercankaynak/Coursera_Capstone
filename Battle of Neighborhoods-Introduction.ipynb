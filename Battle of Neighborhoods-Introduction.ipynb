{
    "cells": [
        {
            "metadata": {
                "collapsed": true
            },
            "cell_type": "markdown",
            "source": "# Capstone Project - The Battle of Neighborhoods | Finding a Better Place for a Trip in \u0130stanbul as a New Yorker"
        },
        {
            "metadata": {},
            "cell_type": "markdown",
            "source": "## Introduction"
        },
        {
            "metadata": {},
            "cell_type": "markdown",
            "source": "Thw purpose of this project is to help people in exploring the city,living and better observing Turkish culture with finding a good place using Airbnb. It will help people making better and cheaper decisions on selecting a place to stay in a better neighborhood of \u0130stanbul"
        },
        {
            "metadata": {},
            "cell_type": "markdown",
            "source": "## Description & Discussion of the Background"
        },
        {
            "metadata": {},
            "cell_type": "markdown",
            "source": "The main purpose of the project,is to suggest a better place to stay nearby most vogue venues and to make a cheaper recommendation in Airbnb prices. Caf\u00e9s,restaurants,museums,shops etc. like he/she used to go in New York."
        },
        {
            "metadata": {},
            "cell_type": "markdown",
            "source": "New York has lots of different kinds of venues that is popular and have visitors all around the world. \u0130stanbul also host different cultures,diffrent cuisines."
        },
        {
            "metadata": {},
            "cell_type": "markdown",
            "source": "My work is to find the similar places and venues that people coming from New York make a connection with the city."
        },
        {
            "metadata": {},
            "cell_type": "markdown",
            "source": "The problem will be solved in four steps:"
        },
        {
            "metadata": {},
            "cell_type": "markdown",
            "source": "1. Determining the boroughs,neighborhoods and venues in New York,\n2. Determining the boroughs,neignborhoods and venues in \u0130stanbul,\n3. Measuring the similarity in venues between New York and \u0130stanbul,\n4. Recommendation the best places to stay and cheaper places in Airbnb"
        }
    ],
    "metadata": {
        "kernelspec": {
            "name": "python3",
            "display_name": "Python 3.7",
            "language": "python"
        },
        "language_info": {
            "name": "python",
            "version": "3.7.9",
            "mimetype": "text/x-python",
            "codemirror_mode": {
                "name": "ipython",
                "version": 3
            },
            "pygments_lexer": "ipython3",
            "nbconvert_exporter": "python",
            "file_extension": ".py"
        }
    },
    "nbformat": 4,
    "nbformat_minor": 1
}