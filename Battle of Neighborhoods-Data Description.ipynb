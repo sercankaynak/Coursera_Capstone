{
    "cells": [
        {
            "metadata": {
                "collapsed": true
            },
            "cell_type": "markdown",
            "source": "# Capstone Project - The Battle of Neighborhoods | Finding a Better Place for a Trip in \u0130stanbul as a New Yorker"
        },
        {
            "metadata": {},
            "cell_type": "markdown",
            "source": "## Data Description"
        },
        {
            "metadata": {},
            "cell_type": "markdown",
            "source": "### New York City"
        },
        {
            "metadata": {},
            "cell_type": "markdown",
            "source": "New York City has lots of different kinds of venues that is popular and have visitors all around the world. New York City also is one of most crowded metropolitan area all around the world.New York City has been described as the cultural, financial, and media capital of the world, significantly influencing commerce,entertainment, research, technology, education, politics, tourism, art, fashion, and sports. "
        },
        {
            "metadata": {},
            "cell_type": "markdown",
            "source": "- To gather the data of boroughs and neighborhoods in New York City:"
        },
        {
            "metadata": {},
            "cell_type": "markdown",
            "source": "We use \"2014 New York City Neighborhood Names\" GeoJson data from  NYU Spatial Data Repository for exploring boroughs and neighborhoods in New York"
        },
        {
            "metadata": {},
            "cell_type": "markdown",
            "source": "Here is the data link : https://geo.nyu.edu/catalog/nyu_2451_34572"
        },
        {
            "metadata": {},
            "cell_type": "markdown",
            "source": "### \u0130stanbul"
        },
        {
            "metadata": {},
            "cell_type": "markdown",
            "source": "\u0130stanbul is the most populous city in Turkey and the country's economic, cultural and historic center. \u0130stanbul is a transcontinental city in Eurasia, straddling the Bosporus strait (which separates Europe and Asia) between the Sea of Marmara and the Black Sea."
        },
        {
            "metadata": {},
            "cell_type": "markdown",
            "source": "- To gather the data of boroughs and neighborhoods in \u0130stanbul:"
        },
        {
            "metadata": {},
            "cell_type": "markdown",
            "source": "We use \"Second-Level Administrative Divisions of Turkey\" GeoJson data from  NYU Spatial Data Repository for exploring boroughs and neighborhoods in \u0130stanbul"
        },
        {
            "metadata": {},
            "cell_type": "markdown",
            "source": "Here is the the data link : https://geo.nyu.edu/catalog/stanford-nj696zj1674"
        },
        {
            "metadata": {},
            "cell_type": "markdown",
            "source": "### Foursquare API"
        },
        {
            "metadata": {},
            "cell_type": "markdown",
            "source": "We will need data about different venues in different neighborhoods of that specific borough. In order to gain that information we will use \"Foursquare\" locational information. Foursquare is a location data provider with information about all manner of venues and events within an area of interest. Such information includes venue names, locations, menus and even photos. As such, the foursquare location platform will be used as the sole data source since all the stated required information can be obtained through the API.\n\nAfter finding the list of neighborhoods, we then connect to the Foursquare API to gather information about venues inside each and every neighborhood."
        },
        {
            "metadata": {},
            "cell_type": "markdown",
            "source": "Foursquare Developers Access to venue data : https://foursquare.com"
        },
        {
            "metadata": {},
            "cell_type": "markdown",
            "source": "The data retrieved from Foursquare contained information of venues within a specified distance of the longitude and latitude of the postcodes. The information obtained per venue as follows:\n\n1. Neighborhood\n2. Neighborhood Latitude\n3. Neighborhood Longitude\n4. Venue\n5. Name of the Venue\n6. Venue Latitude\n7. Venue Longitude"
        },
        {
            "metadata": {},
            "cell_type": "markdown",
            "source": "### Geospatial Data"
        },
        {
            "metadata": {},
            "cell_type": "markdown",
            "source": "Geospatial data, or spatial data (as it's sometimes known), is information that has a geographic aspect to it. In other words, the records in this type of information set have coordinates, an address, city, postal code, or zip code included with them. The most obvious example is a road map. We see the rendered result, but the features on the map are stored with this type of information included in them.\n\nThere are two basic types or forms of geospatial data:\n\nVector - This form uses points, lines, and polygons to represent spatial features such as cities, roads, and streams.\n\nRaster - This form uses cells (computers often use dots or pixels) to represent spatial features. Cities are single cells, roads are linear sequences of cells, and streams are collections of adjacent cells. An example of this is remote satellite data."
        },
        {
            "metadata": {},
            "cell_type": "markdown",
            "source": "For geospatial data sources, you can see the links above."
        },
        {
            "metadata": {},
            "cell_type": "markdown",
            "source": "### Airbnb Resident Data"
        },
        {
            "metadata": {},
            "cell_type": "markdown",
            "source": "Airbnb is an American vacation rental online marketplace company based in San Francisco, California, United States. Airbnb offers arrangement for lodging, primarily homestays, or tourism experiences. The company does not own any of the real estate listings, nor does it host events; it acts as a broker, receiving commissions from each booking.\nAirbnb also provides API services to gather the data of listing,neighborhoods and details about rental places."
        },
        {
            "metadata": {},
            "cell_type": "markdown",
            "source": "In this project we use resident listings data from Airbnb."
        },
        {
            "metadata": {},
            "cell_type": "markdown",
            "source": "Here is the data link : http://insideairbnb.com/get-the-data.html"
        }
    ],
    "metadata": {
        "kernelspec": {
            "name": "python3",
            "display_name": "Python 3.7",
            "language": "python"
        },
        "language_info": {
            "name": "python",
            "version": "3.7.9",
            "mimetype": "text/x-python",
            "codemirror_mode": {
                "name": "ipython",
                "version": 3
            },
            "pygments_lexer": "ipython3",
            "nbconvert_exporter": "python",
            "file_extension": ".py"
        }
    },
    "nbformat": 4,
    "nbformat_minor": 1
}